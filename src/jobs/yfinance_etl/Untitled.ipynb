{
 "cells": [
  {
   "cell_type": "code",
   "execution_count": 1,
   "id": "917fa0fd-7d15-476c-be85-ecf24354d0a8",
   "metadata": {},
   "outputs": [
    {
     "name": "stderr",
     "output_type": "stream",
     "text": [
      "DEBUG    Entering download()\n",
      "DEBUG     Disabling multithreading because DEBUG logging enabled\n",
      "DEBUG     Entering history()\n",
      "DEBUG      Entering _fetch_ticker_tz()\n",
      "DEBUG       Entering get()\n",
      "DEBUG        url=https://query2.finance.yahoo.com/v8/finance/chart/AAPL\n",
      "DEBUG        params=frozendict.frozendict({'range': '1d', 'interval': '1d'})\n",
      "DEBUG        Entering _get_cookie_and_crumb()\n",
      "DEBUG         cookie_mode = 'basic'\n",
      "DEBUG         Entering _get_cookie_and_crumb_basic()\n",
      "DEBUG          loaded persistent cookie\n",
      "DEBUG          reusing cookie\n",
      "DEBUG          crumb = 'Edge: Too Many Requests'\n",
      "DEBUG         Exiting _get_cookie_and_crumb_basic()\n"
     ]
    },
    {
     "name": "stdout",
     "output_type": "stream",
     "text": [
      "Fetching data for AAPL from 2024-01-01 to 2024-06-01 with interval 1d\n"
     ]
    },
    {
     "name": "stderr",
     "output_type": "stream",
     "text": [
      "DEBUG        Exiting _get_cookie_and_crumb()\n",
      "DEBUG        response code=429\n",
      "DEBUG        toggling cookie strategy basic -> csrf\n",
      "DEBUG        Entering _get_cookie_and_crumb()\n",
      "DEBUG         cookie_mode = 'csrf'\n",
      "DEBUG         Entering _get_crumb_csrf()\n",
      "DEBUG          Failed to find \"csrfToken\" in response\n",
      "DEBUG         Exiting _get_crumb_csrf()\n",
      "DEBUG         toggling cookie strategy csrf -> basic\n",
      "DEBUG         Entering _get_cookie_and_crumb_basic()\n",
      "DEBUG          loaded persistent cookie\n",
      "DEBUG          reusing cookie\n",
      "DEBUG          crumb = 'Edge: Too Many Requests'\n",
      "DEBUG         Exiting _get_cookie_and_crumb_basic()\n",
      "DEBUG        Exiting _get_cookie_and_crumb()\n",
      "DEBUG        response code=429\n",
      "DEBUG       Exiting get()\n",
      "ERROR       Failed to get ticker 'AAPL' reason: Expecting value: line 1 column 1 (char 0)\n",
      "DEBUG      Exiting _fetch_ticker_tz()\n",
      "DEBUG      Entering history()\n",
      "ERROR     \n",
      "          1 Failed download:\n",
      "ERROR     ['AAPL']: YFTzMissingError('$%ticker%: possibly delisted; No timezone found')\n",
      "DEBUG     ['AAPL']: Traceback (most recent call last):\n",
      "            File \"d:\\apps\\yfinance-etl-app\\.venv\\Lib\\site-packages\\yfinance\\multi.py\", line 268, in _download_one\n",
      "              data = Ticker(ticker).history(\n",
      "                     ^^^^^^^^^^^^^^^^^^^^^^^\n",
      "            File \"d:\\apps\\yfinance-etl-app\\.venv\\Lib\\site-packages\\yfinance\\utils.py\", line 104, in wrapper\n",
      "              result = func(*args, **kwargs)\n",
      "                       ^^^^^^^^^^^^^^^^^^^^^\n",
      "            File \"d:\\apps\\yfinance-etl-app\\.venv\\Lib\\site-packages\\yfinance\\base.py\", line 78, in history\n",
      "              return self._lazy_load_price_history().history(*args, **kwargs)\n",
      "                     ^^^^^^^^^^^^^^^^^^^^^^^^^^^^^^^^^^^^^^^^^^^^^^^^^^^^^^^^\n",
      "            File \"d:\\apps\\yfinance-etl-app\\.venv\\Lib\\site-packages\\yfinance\\utils.py\", line 104, in wrapper\n",
      "              result = func(*args, **kwargs)\n",
      "                       ^^^^^^^^^^^^^^^^^^^^^\n",
      "            File \"d:\\apps\\yfinance-etl-app\\.venv\\Lib\\site-packages\\yfinance\\scrapers\\history.py\", line 89, in history\n",
      "              raise _exception\n",
      "          yfinance.exceptions.YFTzMissingError: $%ticker%: possibly delisted; No timezone found\n",
      "          \n",
      "DEBUG    Exiting download()\n"
     ]
    },
    {
     "name": "stdout",
     "output_type": "stream",
     "text": [
      "No data found for AAPL in the specified date range.\n",
      "None\n"
     ]
    }
   ],
   "source": [
    "import sys\n",
    "import os\n",
    "\n",
    "# Add your src directory to sys.path so Python can find your modules\n",
    "sys.path.append(os.path.abspath(os.path.join(os.getcwd(), \"src\")))\n",
    "\n",
    "from interface.yfinance_client import YFinanceClient\n",
    "\n",
    "client = YFinanceClient()\n",
    "data = client.fetch_stock_data(\"AAPL\", start=\"2024-01-01\", end=\"2024-06-01\")\n",
    "print(data)"
   ]
  },
  {
   "cell_type": "code",
   "execution_count": 2,
   "id": "c3644c8e-bc71-4a45-bce5-d094a1dbd2c8",
   "metadata": {},
   "outputs": [
    {
     "name": "stderr",
     "output_type": "stream",
     "text": [
      "DEBUG    Entering download()\n",
      "DEBUG     Disabling multithreading because DEBUG logging enabled\n",
      "DEBUG     Entering history()\n",
      "DEBUG      Entering _fetch_ticker_tz()\n",
      "ERROR       Failed to get ticker 'AAPL' reason: Expecting value: line 1 column 1 (char 0)\n",
      "DEBUG      Exiting _fetch_ticker_tz()\n",
      "DEBUG      Entering history()\n",
      "ERROR     \n",
      "          1 Failed download:\n",
      "ERROR     ['AAPL']: YFTzMissingError('$%ticker%: possibly delisted; No timezone found')\n",
      "DEBUG     ['AAPL']: Traceback (most recent call last):\n",
      "            File \"d:\\apps\\yfinance-etl-app\\.venv\\Lib\\site-packages\\yfinance\\multi.py\", line 268, in _download_one\n",
      "              data = Ticker(ticker).history(\n",
      "                     ^^^^^^^^^^^^^^^^^^^^^^^\n",
      "            File \"d:\\apps\\yfinance-etl-app\\.venv\\Lib\\site-packages\\yfinance\\utils.py\", line 104, in wrapper\n",
      "              result = func(*args, **kwargs)\n",
      "                       ^^^^^^^^^^^^^^^^^^^^^\n",
      "            File \"d:\\apps\\yfinance-etl-app\\.venv\\Lib\\site-packages\\yfinance\\base.py\", line 78, in history\n",
      "              return self._lazy_load_price_history().history(*args, **kwargs)\n",
      "                     ^^^^^^^^^^^^^^^^^^^^^^^^^^^^^^^^^^^^^^^^^^^^^^^^^^^^^^^^\n",
      "            File \"d:\\apps\\yfinance-etl-app\\.venv\\Lib\\site-packages\\yfinance\\utils.py\", line 104, in wrapper\n",
      "              result = func(*args, **kwargs)\n",
      "                       ^^^^^^^^^^^^^^^^^^^^^\n",
      "            File \"d:\\apps\\yfinance-etl-app\\.venv\\Lib\\site-packages\\yfinance\\scrapers\\history.py\", line 89, in history\n",
      "              raise _exception\n",
      "          yfinance.exceptions.YFTzMissingError: $%ticker%: possibly delisted; No timezone found\n",
      "          \n",
      "DEBUG    Exiting download()\n"
     ]
    },
    {
     "name": "stdout",
     "output_type": "stream",
     "text": [
      "Empty DataFrame\n",
      "Columns: [Open, High, Low, Close, Adj Close, Volume]\n",
      "Index: []\n"
     ]
    }
   ],
   "source": [
    "import yfinance as yf\n",
    "\n",
    "# Set the ticker symbol and date range\n",
    "ticker = \"AAPL\"\n",
    "start_date = \"2024-01-01\"\n",
    "end_date = \"2024-06-01\"\n",
    "\n",
    "# Download historical market data\n",
    "df = yf.download(\n",
    "    tickers=ticker,\n",
    "    start=start_date,\n",
    "    end=end_date,\n",
    "    interval=\"1d\",\n",
    "    group_by=\"ticker\",\n",
    "    auto_adjust=True,\n",
    "    progress=False\n",
    ")\n",
    "\n",
    "# Display the first few rows\n",
    "print(df.head())"
   ]
  },
  {
   "cell_type": "code",
   "execution_count": null,
   "id": "87194853-0d3d-4e42-aa6e-9737d55c17a2",
   "metadata": {},
   "outputs": [],
   "source": []
  }
 ],
 "metadata": {
  "kernelspec": {
   "display_name": "Python 3 (ipykernel)",
   "language": "python",
   "name": "python3"
  },
  "language_info": {
   "codemirror_mode": {
    "name": "ipython",
    "version": 3
   },
   "file_extension": ".py",
   "mimetype": "text/x-python",
   "name": "python",
   "nbconvert_exporter": "python",
   "pygments_lexer": "ipython3",
   "version": "3.11.9"
  }
 },
 "nbformat": 4,
 "nbformat_minor": 5
}
